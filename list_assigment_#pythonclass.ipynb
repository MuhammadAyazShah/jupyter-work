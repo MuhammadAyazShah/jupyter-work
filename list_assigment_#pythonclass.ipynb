{
 "cells": [
  {
   "cell_type": "markdown",
   "metadata": {},
   "source": [
    "# ASSIGMENT PROGRAM\n",
    "### Name: Muhammad Ayaz Shah\n",
    "### Father's Name: Mahmood Shah\n",
    "### Roll #: AIC023941\n",
    "### Instructor: Sir Noman Islam\n",
    "### Campus: Gulshan Campus\n",
    "### Time: 6:45 to 9:45\n",
    "## This Program make a list you want"
   ]
  },
  {
   "cell_type": "code",
   "execution_count": 3,
   "metadata": {},
   "outputs": [],
   "source": [
    "def list_kost():\n",
    "    yes=\"Y\"\n",
    "    entries=[]\n",
    "    while yes==\"Y\":\n",
    "        No_of_list=int(input(\"How many number of entry(ies) you want to enter: \"))\n",
    "        if No_of_list < 0:\n",
    "            print(\"You must enter non-negative numbers\")\n",
    "            break\n",
    "        elif No_of_list >= 0:\n",
    "            for a_list in range(1,int(No_of_list)+1):\n",
    "                entry_name=input(\"Enter number \" + str(a_list) +  \" entry name: \")\n",
    "                entries.append(entry_name)\n",
    "        yes=input(\"\\nAre you still want to enter an entry(ies)? Type 'Y' for yes or click enter for do nothing or type any thing: \")\n",
    "        \n",
    "    print(\"\\nYour entry(ies) are following:\")\n",
    "    print(entries)\n",
    "                  \n",
    "    Delete=input(\"\\nAre you want to delete some entry(ies)? Type 'Y' for yes or enter for do nothing or type any thing: \")\n",
    "    d=\"Y\"\n",
    "    while d==\"Y\":\n",
    "        if Delete==\"Y\":\n",
    "            delete_entry=input(\"\\nIf you want to delete entry(ies)? Type index number of its entry (index=0 and so on).\\nOr if you want to delete full list of entries type 'Y': \")\n",
    "            if delete_entry < str(0):\n",
    "                print(\"you should enter non-negative number\")\n",
    "                break\n",
    "            elif delete_entry==\"Y\":\n",
    "                del entries[0:len(entries)]\n",
    "                print(\"You have no entries left\")\n",
    "                break\n",
    "            else:\n",
    "                del entries[int(delete_entry)]\n",
    "                print(entries)\n",
    "            d=input(\"\\nAre you want to delete more entries? Type 'Y' or click enter for nothing to do or type any thing: \")\n",
    "        elif Delete !=\"Y\":\n",
    "            break\n",
    "    return entries"
   ]
  },
  {
   "cell_type": "code",
   "execution_count": 4,
   "metadata": {},
   "outputs": [
    {
     "name": "stdout",
     "output_type": "stream",
     "text": [
      "How many number of entry(ies) you want to enter: 5\n",
      "Enter number 1 entry name: u\n",
      "Enter number 2 entry name: comes\n",
      "Enter number 3 entry name: after\n",
      "Enter number 4 entry name: t\n",
      "Enter number 5 entry name: \n",
      "\n",
      "Are you still want to enter an entry(ies)? Type 'Y' for yes or click enter for do nothing or type any thing: \n",
      "\n",
      "Your entry(ies) are following:\n",
      "['u', 'comes', 'after', 't', '']\n",
      "\n",
      "Are you want to delete some entry(ies)? Type 'Y' for yes or enter for do nothing or type any thing: \n"
     ]
    },
    {
     "data": {
      "text/plain": [
       "['u', 'comes', 'after', 't', '']"
      ]
     },
     "execution_count": 4,
     "metadata": {},
     "output_type": "execute_result"
    }
   ],
   "source": [
    "list_kost()"
   ]
  },
  {
   "cell_type": "code",
   "execution_count": 9,
   "metadata": {},
   "outputs": [
    {
     "name": "stdout",
     "output_type": "stream",
     "text": [
      "How many number of entry(ies) you want to enter: 4\n",
      "Enter number 1 entry name: lets\n",
      "Enter number 2 entry name: talk\n",
      "Enter number 3 entry name: about\n",
      "Enter number 4 entry name: honesty\n",
      "\n",
      "Are you still want to enter an entry(ies)? Type 'Y' for yes or click enter for do nothing or type any thing: Y\n",
      "How many number of entry(ies) you want to enter: 5\n",
      "Enter number 1 entry name: you\n",
      "Enter number 2 entry name: know\n",
      "Enter number 3 entry name: nothing\n",
      "Enter number 4 entry name: about\n",
      "Enter number 5 entry name: honesty\n",
      "\n",
      "Are you still want to enter an entry(ies)? Type 'Y' for yes or click enter for do nothing or type any thing: \n",
      "\n",
      "Your entry(ies) are following:\n",
      "['lets', 'talk', 'about', 'honesty', 'you', 'know', 'nothing', 'about', 'honesty']\n",
      "\n",
      "Are you want to delete some entry(ies)? Type 'Y' for yes or enter for do nothing or type any thing: Y\n",
      "\n",
      "If you want to delete entry(ies)? Type index number of its entry (index=0 and so on).\n",
      "Or if you want to delete full list of entries type 'Y': 6\n",
      "['lets', 'talk', 'about', 'honesty', 'you', 'know', 'about', 'honesty']\n",
      "\n",
      "Are you want to delete more entries? Type 'Y' or click enter for nothing to do or type any thing: Y\n",
      "\n",
      "If you want to delete entry(ies)? Type index number of its entry (index=0 and so on).\n",
      "Or if you want to delete full list of entries type 'Y': 6\n",
      "['lets', 'talk', 'about', 'honesty', 'you', 'know', 'honesty']\n",
      "\n",
      "Are you want to delete more entries? Type 'Y' or click enter for nothing to do or type any thing: \n"
     ]
    },
    {
     "data": {
      "text/plain": [
       "['lets', 'talk', 'about', 'honesty', 'you', 'know', 'honesty']"
      ]
     },
     "execution_count": 9,
     "metadata": {},
     "output_type": "execute_result"
    }
   ],
   "source": [
    "list_kost()"
   ]
  },
  {
   "cell_type": "code",
   "execution_count": 10,
   "metadata": {},
   "outputs": [
    {
     "name": "stdout",
     "output_type": "stream",
     "text": [
      "How many number of entry(ies) you want to enter: 5\n",
      "Enter number 1 entry name: honesty\n",
      "Enter number 2 entry name: is\n",
      "Enter number 3 entry name: the\n",
      "Enter number 4 entry name: best\n",
      "Enter number 5 entry name: policy\n",
      "\n",
      "Are you still want to enter an entry(ies)? Type 'Y' for yes or click enter for do nothing or type any thing: no\n",
      "\n",
      "Your entry(ies) are following:\n",
      "['honesty', 'is', 'the', 'best', 'policy']\n",
      "\n",
      "Are you want to delete some entry(ies)? Type 'Y' for yes or enter for do nothing or type any thing: Y\n",
      "\n",
      "If you want to delete entry(ies)? Type index number of its entry (index=0 and so on).\n",
      "Or if you want to delete full list of entries type 'Y': Y\n",
      "You have no entries left\n"
     ]
    },
    {
     "data": {
      "text/plain": [
       "[]"
      ]
     },
     "execution_count": 10,
     "metadata": {},
     "output_type": "execute_result"
    }
   ],
   "source": [
    "list_kost()"
   ]
  }
 ],
 "metadata": {
  "kernelspec": {
   "display_name": "Python 3",
   "language": "python",
   "name": "python3"
  },
  "language_info": {
   "codemirror_mode": {
    "name": "ipython",
    "version": 3
   },
   "file_extension": ".py",
   "mimetype": "text/x-python",
   "name": "python",
   "nbconvert_exporter": "python",
   "pygments_lexer": "ipython3",
   "version": "3.7.3"
  }
 },
 "nbformat": 4,
 "nbformat_minor": 2
}
