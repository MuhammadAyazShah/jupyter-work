{
 "cells": [
  {
   "cell_type": "markdown",
   "metadata": {},
   "source": [
    "# Name: Muhammad Ayaz Shah\n",
    "# Father's name: Mahmood Shah¶\n",
    "# Roll No.: AIC023941"
   ]
  },
  {
   "cell_type": "markdown",
   "metadata": {},
   "source": [
    "# The ABC company has hired you as an intern on the coding team that creates e-commerce applications.  \n",
    "You must write a script that asks the user for a value. The value must be used as a whole number in a calculation, even if the user enters a decimal value. \n",
    "\n",
    "You need to write the code to meet the requirements."
   ]
  },
  {
   "cell_type": "code",
   "execution_count": 3,
   "metadata": {},
   "outputs": [
    {
     "name": "stdout",
     "output_type": "stream",
     "text": [
      "Please! Enter the value: 33525435.54534545\n",
      "Yours value is 33525435\n"
     ]
    }
   ],
   "source": [
    "intern_value=float(input(\"Please! Enter the value: \"))\n",
    "integer=int(intern_value)\n",
    "if intern_value>=0:\n",
    "    print(\"Yours value is\", integer)\n",
    "else:\n",
    "    print(\"You entered negative value\")"
   ]
  },
  {
   "cell_type": "markdown",
   "metadata": {},
   "source": [
    "# You are creating a Python program that shows a congratulation message to employees on their service anniversary.\n",
    "You need to calculate the number of years of service and print a congratulatory message."
   ]
  },
  {
   "cell_type": "code",
   "execution_count": 8,
   "metadata": {},
   "outputs": [
    {
     "name": "stdout",
     "output_type": "stream",
     "text": [
      "Which year you started your services?\n",
      "2015\n",
      "What is the current year?\n",
      "2019\n",
      "Congratulation! You have compeleted 4 years\n"
     ]
    }
   ],
   "source": [
    "start_of_year=int(input(\"Which year you started your services?\\n\"))\n",
    "current_year=int(input(\"What is the current year?\\n\"))\n",
    "No_of_years=current_year-start_of_year\n",
    "if No_of_years==0:\n",
    "    print(\"Sorry! You have not compeleted a year\")\n",
    "elif No_of_years==1:\n",
    "    print(\"Congratulation! You have compeleted 1 year\")\n",
    "else:\n",
    "    print(\"Congratulation! You have compeleted \" + str(No_of_years) +\" years\")"
   ]
  },
  {
   "cell_type": "markdown",
   "metadata": {},
   "source": [
    "# Write a Python program to convert temperatures  from fahrenheit to celsius, \n",
    "#step 1: take \"fahrenheit Temperature\" from user in integer data type\n",
    "#step 2: apply formula that is       (  C = (5/9) * (fahrenheit_temperature - 32)  )\n",
    "#step 3: print step 2. "
   ]
  },
  {
   "cell_type": "code",
   "execution_count": 14,
   "metadata": {},
   "outputs": [
    {
     "name": "stdout",
     "output_type": "stream",
     "text": [
      "Type Fahrenheit temperature:\n",
      "104\n",
      "Farenheit temperature 104 in Celsius is 40\n"
     ]
    }
   ],
   "source": [
    "farenheit_temp=float(input(\"Type Fahrenheit temperature:\\n\"))\n",
    "temp=int(farenheit_temp)\n",
    "celsius_temp=(5/9*(temp-32))\n",
    "print(\"Farenheit temperature\", temp, \"in Celsius is\",int(celsius_temp))"
   ]
  },
  {
   "cell_type": "markdown",
   "metadata": {},
   "source": [
    "<h3>assign a value to grade by checking the following conditions:: </h3>\n",
    "<h3>if % is greater then and equal to 90 and less then 100 grade is A+ </h3>\n",
    "<h3>if % is greater then and equal to 80 and less then 90 grade is A </h3>\n",
    "<h3>if % is greater then and equal to 70 and less then 80 grade is B </h3>\n",
    "<h3>if % is greater then and equal to 60 and less then 70 grade is C </h3>\n",
    "<h3>if % is less than 60 grade is FAIL </h3>\n"
   ]
  },
  {
   "cell_type": "code",
   "execution_count": 3,
   "metadata": {},
   "outputs": [
    {
     "name": "stdout",
     "output_type": "stream",
     "text": [
      "Enter your percentage:\n",
      "456\n",
      "Sorry! You should enter 0 to 100 percentage only\n",
      "\n"
     ]
    }
   ],
   "source": [
    "grade=float(input(\"Enter your percentage:\\n\"))\n",
    "if grade<=100 and grade>=90:\n",
    "    print(\"Excellent, you have got 'A+' grade\\n\")\n",
    "elif grade<90 and grade>=80:\n",
    "    print(\"Great, you have got 'A' grade\\n\")\n",
    "elif grade<80 and grade>=70:\n",
    "    print(\"Not bad, You have got 'B' grade\\n\")\n",
    "elif grade<70 and grade>=60:\n",
    "    print(\"Do hard work, You have got 'C' grade\\n\")\n",
    "elif grade<0 or grade>100:\n",
    "    print(\"Sorry! You should enter 0 to 100 percentage only\\n\")\n",
    "else:\n",
    "    print(\"Better next time, You are 'FAIL' ;_(\\n\")"
   ]
  },
  {
   "cell_type": "markdown",
   "metadata": {},
   "source": [
    "<h3>Print grade percentage and obtained marks</h3>"
   ]
  },
  {
   "cell_type": "code",
   "execution_count": 10,
   "metadata": {},
   "outputs": [
    {
     "name": "stdout",
     "output_type": "stream",
     "text": [
      "Enter your number of subjects:\n",
      "6\n",
      "Enter subject#1 marks:\n",
      "45\n",
      "Enter subject#2 marks:\n",
      "87\n",
      "Enter subject#3 marks:\n",
      "87\n",
      "Enter subject#4 marks:\n",
      "99\n",
      "Enter subject#5 marks:\n",
      "23\n",
      "Enter subject#6 marks:\n",
      "66\n",
      "Do hard work, You have got 'C' grade, your percentage is 67.83333333333333 %, and your obtained marks is 407.0 \n",
      "\n"
     ]
    }
   ],
   "source": [
    "no_of_sub=int(input(\"Enter your number of subjects:\\n\"))\n",
    "subjects=[]\n",
    "for i in range(1,no_of_sub+1):\n",
    "    s=float(input(\"Enter subject#\" +str(i)+ \" marks:\\n\"))\n",
    "    subjects.append(s)\n",
    "obtained_marks=sum(subjects)\n",
    "total=len(subjects)*100\n",
    "grade=(obtained_marks/total)*100\n",
    "if grade<=100 and grade>=90:\n",
    "    print(\"Excellent, you have got 'A+' grade, your percentage is\",grade,\"%, and your obtained marks is\", obtained_marks,\"\\n\")\n",
    "elif grade<90 and grade>=80:\n",
    "    print(\"Great, you have got 'A' grade, your percentage is\",grade,\"%, and your obtained marks is\", obtained_marks,\"\\n\")\n",
    "elif grade<80 and grade>=70:\n",
    "    print(\"Not bad, You have got 'B' grade, your percentage is\",grade,\"%, and your obtained marks is\", obtained_marks,\"\\n\")\n",
    "elif grade<70 and grade>=60:\n",
    "    print(\"Do hard work, You have got 'C' grade, your percentage is\",grade,\"%, and your obtained marks is\", obtained_marks,\"\\n\")\n",
    "elif grade<0 or grade>100:\n",
    "    print(\"Sorry! You should enter 0 to 100 percentage only\\n\")\n",
    "else:\n",
    "    print(\"Better next time, You are 'FAIL'\", \"your percentage is\",grade,\"%, and your obtained marks is\", obtained_marks,\"\\n\")"
   ]
  }
 ],
 "metadata": {
  "kernelspec": {
   "display_name": "Python 3",
   "language": "python",
   "name": "python3"
  },
  "language_info": {
   "codemirror_mode": {
    "name": "ipython",
    "version": 3
   },
   "file_extension": ".py",
   "mimetype": "text/x-python",
   "name": "python",
   "nbconvert_exporter": "python",
   "pygments_lexer": "ipython3",
   "version": "3.7.3"
  }
 },
 "nbformat": 4,
 "nbformat_minor": 2
}
