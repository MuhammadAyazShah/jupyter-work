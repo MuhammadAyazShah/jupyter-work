{
 "cells": [
  {
   "cell_type": "markdown",
   "metadata": {},
   "source": [
    "# Name: Muhammad Ayaz Shah\n",
    "# Father's name: Mahmood Shah\n",
    "# Roll No.: AIC023941"
   ]
  },
  {
   "cell_type": "markdown",
   "metadata": {},
   "source": [
    "# ASSIGNMENT "
   ]
  },
  {
   "cell_type": "markdown",
   "metadata": {},
   "source": [
    "<h3> 1 : Declare and initialize a variable name total_marks with a value 500</h3>\n"
   ]
  },
  {
   "cell_type": "code",
   "execution_count": 6,
   "metadata": {},
   "outputs": [
    {
     "name": "stdout",
     "output_type": "stream",
     "text": [
      "Total marks are 500\n"
     ]
    }
   ],
   "source": [
    "total_marks=500\n",
    "print(\"Total marks are\", total_marks)"
   ]
  },
  {
   "cell_type": "markdown",
   "metadata": {},
   "source": [
    "<h3> 2 : Declare and initialize 5 variables name maths , english , urdu , physics and chemisrty with different integer values</h3>"
   ]
  },
  {
   "cell_type": "code",
   "execution_count": 7,
   "metadata": {},
   "outputs": [
    {
     "name": "stdout",
     "output_type": "stream",
     "text": [
      "maths= 99 english= 75 urdu= 87 physics= 89 chemistry= 86\n"
     ]
    }
   ],
   "source": [
    "maths=99\n",
    "english=75\n",
    "urdu=87\n",
    "physics=89\n",
    "chemistry=86\n",
    "print(\"maths=\",maths,\"english=\",english,\"urdu=\",urdu,\"physics=\",physics,\"chemistry=\",chemistry)"
   ]
  },
  {
   "cell_type": "markdown",
   "metadata": {},
   "source": [
    "<h3>3 : Calculate the obtained marks And assign the value In variable name obtained_marks</h3>"
   ]
  },
  {
   "cell_type": "code",
   "execution_count": 1,
   "metadata": {},
   "outputs": [
    {
     "name": "stdout",
     "output_type": "stream",
     "text": [
      "Give all subjects obitained marks: \n",
      "Enter maths obtained marks: 99\n",
      "Enter physics obtained marks: 75\n",
      "Enter chemistry obtained marks: 86\n",
      "Enter urdu obtained marks: 87\n",
      "Enter english obtained marks: 75\n",
      "Total obtained marks are 422\n"
     ]
    }
   ],
   "source": [
    "print(\"Give all subjects obitained marks: \")\n",
    "maths=int(input(\"Enter maths obtained marks: \"))\n",
    "phy=int(input(\"Enter physics obtained marks: \"))\n",
    "chem=int(input(\"Enter chemistry obtained marks: \"))\n",
    "urdu=int(input(\"Enter urdu obtained marks: \"))\n",
    "eng=int(input(\"Enter english obtained marks: \"))\n",
    "obtained_marks=maths+phy+chem+urdu+eng\n",
    "print(\"Total obtained marks are\",obtained_marks)"
   ]
  },
  {
   "cell_type": "markdown",
   "metadata": {},
   "source": [
    "### 4 : Calculate percentage and assign the value in variable name percentage"
   ]
  },
  {
   "cell_type": "code",
   "execution_count": 9,
   "metadata": {},
   "outputs": [
    {
     "name": "stdout",
     "output_type": "stream",
     "text": [
      "For percentage, enter obtained marks: 456\n",
      "Enter total marks: 500\n",
      "Your percentage is 84.39999999999999 %\n"
     ]
    }
   ],
   "source": [
    "obtaind_marks=int(input(\"For percentage, enter obtained marks: \"))\n",
    "total_marks=int(input(\"Enter total marks: \"))\n",
    "percentage=(obtained_marks/total_marks)*100\n",
    "print(\"Your percentage is\",percentage, \"%\")"
   ]
  },
  {
   "cell_type": "markdown",
   "metadata": {},
   "source": [
    "<h3>5 : Declare and initialize an empty variable name grade </h3>"
   ]
  },
  {
   "cell_type": "code",
   "execution_count": 8,
   "metadata": {},
   "outputs": [
    {
     "name": "stdout",
     "output_type": "stream",
     "text": [
      "\n"
     ]
    }
   ],
   "source": [
    "grade=\"\"\n",
    "print(grade)"
   ]
  },
  {
   "cell_type": "markdown",
   "metadata": {},
   "source": [
    "### 6: print your biodata "
   ]
  },
  {
   "cell_type": "code",
   "execution_count": 10,
   "metadata": {},
   "outputs": [
    {
     "name": "stdout",
     "output_type": "stream",
     "text": [
      "Enter your name: Muhammad Ayaz Shah\n",
      "Enter your father's name: Mahmood Shah\n",
      "Enter your age: 24\n",
      "Enter yours occupation: teacher\n",
      "Enter what you studied: M.Sc in mathematics\n",
      "\n",
      "\n",
      "\t*_*___MY SELF___*_*\n",
      "\n",
      "My name is  Muhammad Ayaz Shah \n",
      "My father's name is Mahmood Shah \n",
      "My age is about 24 years \n",
      "My occupation is teacher \n",
      "I was studied M.Sc in mathematics\n"
     ]
    }
   ],
   "source": [
    "name=input(\"Enter your name: \")\n",
    "father_name=input(\"Enter your father's name: \")\n",
    "age=int(input(\"Enter your age: \"))\n",
    "occupation=input(\"Enter yours occupation: \")\n",
    "study=input(\"Enter what you studied: \")\n",
    "print(\"\\n\\n\\t*_*___MY SELF___*_*\\n\")\n",
    "print(\"My name is \",name,\"\\nMy father's name is\", father_name,\"\\nMy age is about\",age,\"years\",\"\\nMy occupation is\", occupation, \"\\nI was studied\",study)"
   ]
  }
 ],
 "metadata": {
  "kernelspec": {
   "display_name": "Python 3",
   "language": "python",
   "name": "python3"
  },
  "language_info": {
   "codemirror_mode": {
    "name": "ipython",
    "version": 3
   },
   "file_extension": ".py",
   "mimetype": "text/x-python",
   "name": "python",
   "nbconvert_exporter": "python",
   "pygments_lexer": "ipython3",
   "version": "3.7.3"
  }
 },
 "nbformat": 4,
 "nbformat_minor": 2
}
