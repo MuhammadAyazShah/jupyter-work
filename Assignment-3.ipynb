{
 "cells": [
  {
   "cell_type": "markdown",
   "metadata": {},
   "source": [
    "# Name: Muhammad Ayaz Shah\n",
    "# Father's name: Mahmood Shah¶\n",
    "# Roll No.: AIC023941"
   ]
  },
  {
   "cell_type": "markdown",
   "metadata": {},
   "source": [
    "<h3>Q no 1:  Write a python program to find number of occurrences of given number in a list with out using built-in methods</h3>\n",
    "<h4>**1 generate a list of some random num which is repeated again and again</h4>\n",
    "<h4>**2 take user input any number</h4>\n",
    "<h4>**3 find the number of occurrences of that num in your list</h4>\n",
    "<h4>**4 print some message to user with that result</h4>"
   ]
  },
  {
   "cell_type": "code",
   "execution_count": 101,
   "metadata": {},
   "outputs": [
    {
     "name": "stdout",
     "output_type": "stream",
     "text": [
      "Enter a number: 433\n",
      "Your number 433 is ouccered in list 0 times.\n",
      "\n"
     ]
    }
   ],
   "source": [
    "random_no=[0,1,1,2,3,324,533,5212,533,4,935,0,87,87,56,76,67,76,4,5,5,6,7,7,7,8,9,9,8,9,4]\n",
    "user_input=input(\"Enter a number: \")\n",
    "oucc=0\n",
    "for i in random_no:\n",
    "    if float(user_input)==i:\n",
    "        oucc+=1\n",
    "print(\"Your number\",user_input,\"is ouccered in list\", oucc, \"times.\\n\")"
   ]
  },
  {
   "cell_type": "code",
   "execution_count": null,
   "metadata": {},
   "outputs": [],
   "source": []
  },
  {
   "cell_type": "markdown",
   "metadata": {},
   "source": [
    "<h3>Q no 2:   [\"www.zframez.com\", \"www.wikipedia.org\", \"www.asp.net\", \"www.abcd.in\"]\n",
    "<br/><br/><br/><br/><br/>\n",
    "Write a python program to print website suffixes (com , org , net ,in) from this list\n",
    "\n",
    "Hint : Use split() method to perform this task\n",
    "</h3>\n"
   ]
  },
  {
   "cell_type": "code",
   "execution_count": 69,
   "metadata": {},
   "outputs": [
    {
     "name": "stdout",
     "output_type": "stream",
     "text": [
      "com\n",
      "org\n",
      "net\n",
      "in\n"
     ]
    }
   ],
   "source": [
    "website=[\"www.zframez.com\", \"www.wikipedia.org\", \"www.asp.net\", \"www.abcd.in\"]\n",
    "for i in website:\n",
    "    a=i.split(\".\")[2]\n",
    "    print(a)"
   ]
  },
  {
   "cell_type": "code",
   "execution_count": null,
   "metadata": {},
   "outputs": [],
   "source": []
  },
  {
   "cell_type": "markdown",
   "metadata": {},
   "source": [
    "<h3> Q no 3 : Write a program which can compute the factorial of a given numbers.</h3>\n",
    "<br/>\n",
    "<br/>\n",
    "<h4>**1 first take user input any number</h4>\n",
    "<h4>**2 calculate factorial of that input and then print the result to user</h4>"
   ]
  },
  {
   "cell_type": "code",
   "execution_count": 76,
   "metadata": {},
   "outputs": [
    {
     "name": "stdout",
     "output_type": "stream",
     "text": [
      "Enter an integer:\n",
      "-6\n",
      "Factorial of -6 is -720\n"
     ]
    }
   ],
   "source": [
    "fact=input(\"Enter an integer:\\n\")\n",
    "exp=1\n",
    "if int(fact)>=0:\n",
    "    for i in range(int(fact)):\n",
    "        exp=(int(fact)-i)*exp\n",
    "    print(\"Factorial of\",fact,\"is\",exp)\n",
    "else:\n",
    "    posi_int=int(fact)*-1\n",
    "    for i in range(posi_int):\n",
    "        exp=(posi_int-i)*exp\n",
    "    print(\"Factorial of\",fact,\"is\",exp*-1)"
   ]
  },
  {
   "cell_type": "code",
   "execution_count": null,
   "metadata": {},
   "outputs": [],
   "source": []
  },
  {
   "cell_type": "code",
   "execution_count": null,
   "metadata": {},
   "outputs": [],
   "source": []
  },
  {
   "cell_type": "code",
   "execution_count": null,
   "metadata": {},
   "outputs": [],
   "source": []
  },
  {
   "cell_type": "markdown",
   "metadata": {},
   "source": [
    "<h3>Q 4 (a) :  If you could invite anyone, living or deceased, to dinner, who\n",
    "would you invite? Make a list that includes at least three people you’d like to\n",
    "invite to dinner. Then use your list to print a message to each person, inviting\n",
    "them to dinner.</h3>"
   ]
  },
  {
   "cell_type": "code",
   "execution_count": 77,
   "metadata": {},
   "outputs": [
    {
     "name": "stdout",
     "output_type": "stream",
     "text": [
      "Zain-ul-Abiden you are invited to the dinner at my place.\n",
      "\n",
      "Shahzaib you are invited to the dinner at my place.\n",
      "\n",
      "Arsalan you are invited to the dinner at my place.\n",
      "\n",
      "Afzal you are invited to the dinner at my place.\n",
      "\n",
      "Ali you are invited to the dinner at my place.\n",
      "\n"
     ]
    }
   ],
   "source": [
    "friend=[\"Zain-ul-Abiden\", \"Shahzaib\", \"Arsalan\", \"Afzal\", \"Ali\"]\n",
    "for i in friend:\n",
    "    print(f\"{i} you are invited to the dinner at my place.\\n\")"
   ]
  },
  {
   "cell_type": "code",
   "execution_count": null,
   "metadata": {},
   "outputs": [],
   "source": []
  },
  {
   "cell_type": "code",
   "execution_count": null,
   "metadata": {},
   "outputs": [],
   "source": []
  },
  {
   "cell_type": "markdown",
   "metadata": {},
   "source": [
    "<h3>Q 4 (b) : You just heard that one of your guests can’t make the\n",
    "dinner, so you need to send out a new set of invitations. You’ll have to think of\n",
    "someone else to invite.<br/></br><br/>\n",
    "•\t Start with your program from Q 4 (a). Add a print statement at the\n",
    "end of your program stating the name of the guest who can’t make it.<br/></br><br/>\n",
    "•\t Modify your list, replacing the name of the guest who can’t make it with\n",
    "the name of the new person you are inviting.<br/></br><br/>\n",
    "•\t Print a second set of invitation messages, one for each person who is still\n",
    "in your list.<br/></br><br/></h3>"
   ]
  },
  {
   "cell_type": "code",
   "execution_count": 95,
   "metadata": {},
   "outputs": [
    {
     "name": "stdout",
     "output_type": "stream",
     "text": [
      "Zain-ul-Abiden you are invited to the dinner at my place.\n",
      "\n",
      "Shahzaib you are invited to the dinner at my place.\n",
      "\n",
      "Arsalan you are invited to the dinner at my place.\n",
      "\n",
      "Afzal you are invited to the dinner at my place.\n",
      "\n",
      "Ali you are invited to the dinner at my place.\n",
      "\n",
      "Arsalan can't make dinner.\n",
      "\n",
      "Afzal can't make dinner.\n",
      "\n"
     ]
    }
   ],
   "source": [
    "friend=[\"Zain-ul-Abiden\", \"Shahzaib\", \"Arsalan\", \"Afzal\", \"Ali\"]\n",
    "for i in friend:\n",
    "    print(f\"{i} you are invited to the dinner at my place.\\n\")\n",
    "for i in friend[2:4]:\n",
    "    print(i, \"can't make dinner.\\n\")"
   ]
  },
  {
   "cell_type": "code",
   "execution_count": 96,
   "metadata": {},
   "outputs": [
    {
     "name": "stdout",
     "output_type": "stream",
     "text": [
      "Zain-ul-Abiden you are invited to the dinner at my place.\n",
      "\n",
      "Shahzaib you are invited to the dinner at my place.\n",
      "\n",
      "Asim you are invited to the dinner at my place.\n",
      "\n",
      "Arif you are invited to the dinner at my place.\n",
      "\n",
      "Ali you are invited to the dinner at my place.\n",
      "\n"
     ]
    }
   ],
   "source": [
    "# Modified list:_\n",
    "friend.pop(2)\n",
    "friend.insert(2,\"Arif\")\n",
    "friend.pop(3)\n",
    "friend.insert(2,\"Asim\")\n",
    "for i in friend:\n",
    "    print(f\"{i} you are invited to the dinner at my place.\\n\")"
   ]
  },
  {
   "cell_type": "code",
   "execution_count": null,
   "metadata": {},
   "outputs": [],
   "source": []
  },
  {
   "cell_type": "markdown",
   "metadata": {},
   "source": [
    "<h3>Q 4 (c) : You just found a bigger dinner table, so now more space is\n",
    "available. Think of three more guests to invite to dinner.<br/></br><br/>\n",
    "•\t Start with your program from Q 4 (a) and (b) Add a print\n",
    "statement to the end of your program informing people that you found a\n",
    "bigger dinner table.<br/></br><br/>\n",
    "•\t Use insert() to add one new guest to the beginning of your list.<br/></br><br/>\n",
    "•\t Use insert() to add one new guest to the middle of your list.<br/></br><br/>\n",
    "•\t Use append() to add one new guest to the end of your list.<br/></br><br/>\n",
    "•\t Print a new set of invitation messages, one for each person in your list.<br/></br><br/></h3>"
   ]
  },
  {
   "cell_type": "code",
   "execution_count": 1,
   "metadata": {},
   "outputs": [
    {
     "name": "stdout",
     "output_type": "stream",
     "text": [
      "Zain-ul-Abiden you are invited to the dinner at my place.\n",
      "\n",
      "Shahzaib you are invited to the dinner at my place.\n",
      "\n",
      "Arsalan you are invited to the dinner at my place.\n",
      "\n",
      "Afzal you are invited to the dinner at my place.\n",
      "\n",
      "Ali you are invited to the dinner at my place.\n",
      "\n",
      "Arsalan can't make dinner.\n",
      "\n",
      "Afzal can't make dinner.\n",
      "\n"
     ]
    }
   ],
   "source": [
    "friend=[\"Zain-ul-Abiden\", \"Shahzaib\", \"Arsalan\", \"Afzal\", \"Ali\"]\n",
    "for i in friend:\n",
    "    print(f\"{i} you are invited to the dinner at my place.\\n\")\n",
    "for i in friend[2:4]:\n",
    "    print(i, \"can't make dinner.\\n\")"
   ]
  },
  {
   "cell_type": "code",
   "execution_count": 2,
   "metadata": {},
   "outputs": [
    {
     "name": "stdout",
     "output_type": "stream",
     "text": [
      "Zain-ul-Abiden you are invited to the dinner at my place.\n",
      " And I found a big dinner table\n",
      "\n",
      "Shahzaib you are invited to the dinner at my place.\n",
      " And I found a big dinner table\n",
      "\n",
      "Asim you are invited to the dinner at my place.\n",
      " And I found a big dinner table\n",
      "\n",
      "Arif you are invited to the dinner at my place.\n",
      " And I found a big dinner table\n",
      "\n",
      "Ali you are invited to the dinner at my place.\n",
      " And I found a big dinner table\n",
      "\n"
     ]
    }
   ],
   "source": [
    "# Modified list:_\n",
    "friend.pop(2)\n",
    "friend.insert(2,\"Arif\")\n",
    "friend.pop(3)\n",
    "friend.insert(2,\"Asim\")\n",
    "for i in friend:\n",
    "    print(f\"{i} you are invited to the dinner at my place.\\n And I found a big dinner table\\n\")"
   ]
  },
  {
   "cell_type": "code",
   "execution_count": 3,
   "metadata": {},
   "outputs": [
    {
     "name": "stdout",
     "output_type": "stream",
     "text": [
      "Naveen you are invited to the big dinner table party.\n",
      "\n",
      "Zain-ul-Abiden you are invited to the big dinner table party.\n",
      "\n",
      "Shahzaib you are invited to the big dinner table party.\n",
      "\n",
      "Nehel you are invited to the big dinner table party.\n",
      "\n",
      "Asim you are invited to the big dinner table party.\n",
      "\n",
      "Arif you are invited to the big dinner table party.\n",
      "\n",
      "Ali you are invited to the big dinner table party.\n",
      "\n",
      "Nimra you are invited to the big dinner table party.\n",
      "\n"
     ]
    }
   ],
   "source": [
    "friend.insert(0,\"Naveen\")\n",
    "friend.insert(3,\"Nehel\")\n",
    "friend.insert(7,\"Nimra\")\n",
    "for i in friend:\n",
    "    print(f\"{i} you are invited to the big dinner table party.\\n\")"
   ]
  },
  {
   "cell_type": "markdown",
   "metadata": {},
   "source": [
    "<h3> Q 5 : Here you have some data in variable below, your task is to make a list of specific word Surah then print the list and length of list</h5>\n"
   ]
  },
  {
   "cell_type": "code",
   "execution_count": 22,
   "metadata": {},
   "outputs": [
    {
     "name": "stdout",
     "output_type": "stream",
     "text": [
      "['Surah', 'Surah', 'Surah']\n",
      "Word Surah appears 3 times\n"
     ]
    }
   ],
   "source": [
    "given_data=\"Surah I who beli eve in the unseen, surah are steadfast in prayer, and spend surah out of what we have provided for them\"\n",
    "uppercase_word=given_data.title()\n",
    "word_list=uppercase_word.split(\" \")\n",
    "word=[]\n",
    "for i in word_list:\n",
    "    if i=='Surah':\n",
    "        word.append(i)\n",
    "print(word)\n",
    "print(\"Word Surah appears\", len(word),\"times\")"
   ]
  },
  {
   "cell_type": "code",
   "execution_count": null,
   "metadata": {},
   "outputs": [],
   "source": []
  },
  {
   "cell_type": "markdown",
   "metadata": {},
   "source": [
    " <h3>Q no 6 : You have some name of cities in list named cities, Your task is to check whether Karachi is present in this list or not, if present print the index where the value Karachi is present</h3>"
   ]
  },
  {
   "cell_type": "code",
   "execution_count": 52,
   "metadata": {},
   "outputs": [
    {
     "name": "stdout",
     "output_type": "stream",
     "text": [
      "Yes, Karachi is present in the list, at index 7\n"
     ]
    }
   ],
   "source": [
    "list_cities=[\"Islamabad\",\"Multan\",\"Peshawar\",\"Quetta\",\"Lahor\",\"Haydrabad\",\"Karachi\",\"Sialkot\",\"Fasialabad\"]\n",
    "for i in list_cities:\n",
    "    if i==\"Karachi\":\n",
    "        print(\"Yes, \" f\"{i} is present in the list, at index\",list_cities.index(\"Karachi\")+1)"
   ]
  },
  {
   "cell_type": "code",
   "execution_count": 71,
   "metadata": {},
   "outputs": [
    {
     "name": "stdout",
     "output_type": "stream",
     "text": [
      "No, Karachi is not present in the list.\n"
     ]
    }
   ],
   "source": [
    "list_cities=[\"Islamabad\",\"Multan\",\"Peshawar\",\"Quetta\",\"Lahor\",\"Haydrabad\",\"Sialkot\",\"Fasialabad\"]\n",
    "for i in list_cities:\n",
    "    if i==\"Karachi\":\n",
    "        print(end='')\n",
    "    else:\n",
    "        print(\"No, Karachi is not present in the list.\")\n",
    "        break"
   ]
  },
  {
   "cell_type": "code",
   "execution_count": null,
   "metadata": {},
   "outputs": [],
   "source": []
  }
 ],
 "metadata": {
  "kernelspec": {
   "display_name": "Python 3",
   "language": "python",
   "name": "python3"
  },
  "language_info": {
   "codemirror_mode": {
    "name": "ipython",
    "version": 3
   },
   "file_extension": ".py",
   "mimetype": "text/x-python",
   "name": "python",
   "nbconvert_exporter": "python",
   "pygments_lexer": "ipython3",
   "version": "3.7.3"
  }
 },
 "nbformat": 4,
 "nbformat_minor": 2
}
